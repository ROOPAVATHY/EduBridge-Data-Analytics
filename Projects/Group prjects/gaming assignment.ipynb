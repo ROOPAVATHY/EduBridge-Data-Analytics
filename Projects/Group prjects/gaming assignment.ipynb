{
 "cells": [
  {
   "cell_type": "code",
   "execution_count": 1,
   "id": "b0d876e0",
   "metadata": {},
   "outputs": [
    {
     "name": "stdout",
     "output_type": "stream",
     "text": [
      "Welcome to the Game \n",
      "1. Hero and Villain \n",
      "2. Beauty and The Beast\n",
      "Select your game you want to play: 1\n",
      "1\n",
      "Hero and Villain\n",
      "\n",
      "Select the character type \n",
      "1.Hero \n",
      "2.Villain\n",
      "3\n",
      "Enter the correct value\n"
     ]
    }
   ],
   "source": [
    "val = input(\"Welcome to the Game \\n1. Hero and Villain \\n2. Beauty and The Beast\\nSelect your game you want to play: \")\n",
    "print(val)\n",
    "if val == '1' :\n",
    "    print(\"Hero and Villain\")\n",
    "    val_char = input(\"\\nSelect the character type \\n1.Hero \\n2.Villain\\n\")\n",
    "    if val_char == '1':\n",
    "        print(\"HERO\")\n",
    "        print(\"Enjoy the game\")\n",
    "    elif val_char == '2':\n",
    "        print(\"VILLAIN\")\n",
    "        print(\"Enjoy the game\")\n",
    "    else :\n",
    "        print(\"Enter the correct value\")\n",
    "elif val == '2':\n",
    "    print(\"Beauty and The Beast\")\n",
    "    val_char = input(\"\\nSelect the character type \\n1.Beauty \\n2.Beast\\n\")\n",
    "    if val_char == '1':\n",
    "        print(\"BEAUTY\")\n",
    "        print(\"Enjoy the game\")\n",
    "    elif val_char == '2':\n",
    "        print(\"BEAST\")\n",
    "        print(\"Enjoy the game\")\n",
    "    else :\n",
    "        print(\"Enter the correct value\")\n",
    "else :\n",
    "    print(\"Enter the correct value\")\n"
   ]
  },
  {
   "cell_type": "code",
   "execution_count": null,
   "id": "da034b8c",
   "metadata": {},
   "outputs": [],
   "source": []
  }
 ],
 "metadata": {
  "kernelspec": {
   "display_name": "Python 3 (ipykernel)",
   "language": "python",
   "name": "python3"
  },
  "language_info": {
   "codemirror_mode": {
    "name": "ipython",
    "version": 3
   },
   "file_extension": ".py",
   "mimetype": "text/x-python",
   "name": "python",
   "nbconvert_exporter": "python",
   "pygments_lexer": "ipython3",
   "version": "3.9.7"
  }
 },
 "nbformat": 4,
 "nbformat_minor": 5
}
