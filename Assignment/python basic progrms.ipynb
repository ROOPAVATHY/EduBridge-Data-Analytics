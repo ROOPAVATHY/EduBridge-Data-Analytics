{
 "cells": [
  {
   "cell_type": "markdown",
   "id": "7c159e78",
   "metadata": {},
   "source": [
    "## student pass or fail"
   ]
  },
  {
   "cell_type": "code",
   "execution_count": 1,
   "id": "f584fe14",
   "metadata": {},
   "outputs": [
    {
     "name": "stdout",
     "output_type": "stream",
     "text": [
      "enter the number55\n",
      "student is pass\n"
     ]
    }
   ],
   "source": [
    "a=int(input(\"enter the number\"))\n",
    "if a>50:\n",
    "    print(\"student is pass\")\n",
    "else:\n",
    "    print(\"student is fail\")"
   ]
  },
  {
   "cell_type": "markdown",
   "id": "d38581fb",
   "metadata": {},
   "source": [
    "## profit and loss"
   ]
  },
  {
   "cell_type": "code",
   "execution_count": 2,
   "id": "b8397b46",
   "metadata": {},
   "outputs": [
    {
     "name": "stdout",
     "output_type": "stream",
     "text": [
      "enter val51\n",
      "enter val56\n",
      "loss\n"
     ]
    }
   ],
   "source": [
    "sell_price= int (input(\"enter val\"))\n",
    "cost_price= int (input(\"enter val\"))\n",
    "if sell_price> cost_price:\n",
    "    print(\"profit\")\n",
    "else:    \n",
    "    print(\"loss\")"
   ]
  },
  {
   "cell_type": "markdown",
   "id": "a83473c4",
   "metadata": {},
   "source": [
    "## Person eligible to vote"
   ]
  },
  {
   "cell_type": "code",
   "execution_count": 3,
   "id": "abda1d34",
   "metadata": {},
   "outputs": [
    {
     "name": "stdout",
     "output_type": "stream",
     "text": [
      "enter the number18\n",
      "eligbile to vote\n"
     ]
    }
   ],
   "source": [
    "a=int(input(\"enter the number\"))\n",
    "if a>=18:\n",
    "    print(\"eligbile to vote\")\n",
    "else:\n",
    "    print(\"not eligible to vote\")"
   ]
  },
  {
   "cell_type": "markdown",
   "id": "69411a69",
   "metadata": {},
   "source": [
    "## leap year or not"
   ]
  },
  {
   "cell_type": "code",
   "execution_count": 4,
   "id": "0b2bd22e",
   "metadata": {},
   "outputs": [
    {
     "name": "stdout",
     "output_type": "stream",
     "text": [
      "enter the number1998\n",
      "the year is leap year\n"
     ]
    }
   ],
   "source": [
    "a=int(input(\"enter the number\"))\n",
    "if a/4:\n",
    "    print(\"the year is leap year\")\n",
    "else:\n",
    "    print (\"not a leap year\")"
   ]
  },
  {
   "cell_type": "markdown",
   "id": "0aa03e17",
   "metadata": {},
   "source": [
    "## To print respective day"
   ]
  },
  {
   "cell_type": "code",
   "execution_count": 5,
   "id": "1e2ffa6f",
   "metadata": {},
   "outputs": [
    {
     "name": "stdout",
     "output_type": "stream",
     "text": [
      "Enter weekday day number (1-7) : 7\n",
      "\n",
      "Sunday\n"
     ]
    }
   ],
   "source": [
    "weekday = int(input(\"Enter weekday day number (1-7) : \"))\n",
    "\n",
    "if weekday == 1 :\n",
    "    print(\"\\nMonday\");\n",
    "\n",
    "elif weekday == 2 :\n",
    "    print(\"\\nTuesday\")\n",
    "\n",
    "elif(weekday == 3) :\n",
    "    print(\"\\nWednesday\")\n",
    "\n",
    "elif(weekday == 4) :\n",
    "    print(\"\\nThursday\")\n",
    "\n",
    "elif(weekday == 5) :\n",
    "    print(\"\\nFriday\")\n",
    "\n",
    "elif(weekday == 6) :\n",
    "    print(\"\\nSaturday\")\n",
    "\n",
    "elif (weekday == 7) :\n",
    "    print(\"\\nSunday\")\n",
    "\n",
    "else :\n",
    "    print(\"\\nPlease enter weekday number between 1-7.\")"
   ]
  },
  {
   "cell_type": "markdown",
   "id": "1817ab1d",
   "metadata": {},
   "source": [
    "## Student grade according to the marks"
   ]
  },
  {
   "cell_type": "code",
   "execution_count": 6,
   "id": "f69c0a14",
   "metadata": {},
   "outputs": [
    {
     "name": "stdout",
     "output_type": "stream",
     "text": [
      "Enter the marks: 75\n",
      "Grade: B\n"
     ]
    }
   ],
   "source": [
    "marks = float(input(\"Enter the marks: \"))\n",
    "\n",
    "if marks > 90:\n",
    "    print(\"Grade: A\")\n",
    "elif marks >= 75 :\n",
    "    print(\"Grade: B\")\n",
    "elif marks >= 65 :\n",
    "    print(\"Grade: C\")\n",
    "elif marks >= 50 :\n",
    "    print(\"Grade: D\")\n",
    "else:\n",
    "    print(\"Grade: F\")"
   ]
  },
  {
   "cell_type": "markdown",
   "id": "6fbea6f0",
   "metadata": {},
   "source": [
    "## Print number in ascending order"
   ]
  },
  {
   "cell_type": "code",
   "execution_count": 7,
   "id": "677e0010",
   "metadata": {},
   "outputs": [
    {
     "name": "stdout",
     "output_type": "stream",
     "text": [
      "Enter First number : 88\n",
      "Enter Second number : 55\n",
      "Enter Third number : 45\n",
      "Numbers in ascending order are :  45 55 88\n"
     ]
    }
   ],
   "source": [
    "num1=int(input(\"Enter First number : \"))\n",
    "num2=int(input(\"Enter Second number : \"))\n",
    "num3=int(input(\"Enter Third number : \"))\n",
    "if num1<num2 and num1<num3:\n",
    "    if num2<num3:\n",
    "        x,y,z=num1,num2,num3\n",
    "    else:\n",
    "        x,y,z=num1,num3,num2\n",
    "elif num2<num1 and num2<num3:\n",
    "    if num1<num3:\n",
    "        x,y,z=num2,num1,num3\n",
    "    else:\n",
    "        x,y,z=num2,num3,num1\n",
    "else:\n",
    "    if num1<num2:\n",
    "        x,y,z=num3,num1,num2\n",
    "    else:\n",
    "        x,y,z=num3,num2,num1\n",
    "print(\"Numbers in ascending order are : \",x,y,z)"
   ]
  },
  {
   "cell_type": "markdown",
   "id": "2f725447",
   "metadata": {},
   "source": [
    "## calculator"
   ]
  },
  {
   "cell_type": "code",
   "execution_count": 9,
   "id": "9dca2f11",
   "metadata": {},
   "outputs": [
    {
     "name": "stdout",
     "output_type": "stream",
     "text": [
      "Please select operation -\n",
      "1. Add\n",
      "2. Subtract\n",
      "3. Multiply\n",
      "4. Divide\n",
      "\n",
      "Select operations form 1, 2, 3, 4 :3\n",
      "Enter first number: 55\n",
      "Enter second number: 25\n",
      "55 * 25 = 1375\n"
     ]
    }
   ],
   "source": [
    "def add(num1, num2):\n",
    "    return num1 + num2\n",
    "\n",
    "def subtract(num1, num2):\n",
    "    return num1 - num2\n",
    "  \n",
    "def multiply(num1, num2):\n",
    "    return num1 * num2\n",
    "  \n",
    "def divide(num1, num2):\n",
    "    return num1 / num2\n",
    "  \n",
    "print(\"Please select operation -\\n\" \\\n",
    "        \"1. Add\\n\" \\\n",
    "        \"2. Subtract\\n\" \\\n",
    "        \"3. Multiply\\n\" \\\n",
    "        \"4. Divide\\n\")\n",
    "  \n",
    "select = int(input(\"Select operations form 1, 2, 3, 4 :\"))\n",
    "  \n",
    "number_1 = int(input(\"Enter first number: \"))\n",
    "number_2 = int(input(\"Enter second number: \"))\n",
    "  \n",
    "if select == 1:\n",
    "    print(number_1, \"+\", number_2, \"=\",\n",
    "                    add(number_1, number_2))\n",
    "elif select == 2:\n",
    "    print(number_1, \"-\", number_2, \"=\",\n",
    "                    subtract(number_1, number_2))\n",
    "elif select == 3:\n",
    "    print(number_1, \"*\", number_2, \"=\",\n",
    "                    multiply(number_1, number_2))\n",
    "elif select == 4:\n",
    "    print(number_1, \"/\", number_2, \"=\",\n",
    "                    divide(number_1, number_2))\n",
    "else:\n",
    "    print(\"Invalid input\")\n"
   ]
  },
  {
   "cell_type": "markdown",
   "id": "df81c470",
   "metadata": {},
   "source": [
    "## Program to print respective month"
   ]
  },
  {
   "cell_type": "code",
   "execution_count": 10,
   "id": "cf6e4ad5",
   "metadata": {},
   "outputs": [
    {
     "name": "stdout",
     "output_type": "stream",
     "text": [
      "Enter the month number: 8\n",
      "August\n"
     ]
    }
   ],
   "source": [
    "def print_month_name(x):\n",
    "    if (x==1):\n",
    "         print (\"Jan\")\n",
    "    if (x==2):\n",
    "         print(\"Feb\")\n",
    "    if (x==3):\n",
    "         print(\"March\")\n",
    "    if (x==4):\n",
    "         print(\"April\")\n",
    "    if (x==5):\n",
    "         print(\"May\")\n",
    "    if (x==6):\n",
    "         print(\"June\")\n",
    "    if (x==7):\n",
    "         print(\"July\")\n",
    "    if (x==8):\n",
    "         print(\"August\")\n",
    "    if(x==9):\n",
    "         print(\"September\")\n",
    "    if(x==10):\n",
    "         print(\"October\")\n",
    "    if(x==11):\n",
    "         print(\"November\")\n",
    "    if(x==12):\n",
    "         print(\"December\")\n",
    "    if(x<1 or x>12):\n",
    "         print(\"Invalid input\")\n",
    "month = int(input(\"Enter the month number: \"))\n",
    "print_month_name(month)"
   ]
  },
  {
   "cell_type": "markdown",
   "id": "14d5f826",
   "metadata": {},
   "source": [
    "## Greatest of three numbers"
   ]
  },
  {
   "cell_type": "code",
   "execution_count": 11,
   "id": "6ffffecd",
   "metadata": {},
   "outputs": [
    {
     "name": "stdout",
     "output_type": "stream",
     "text": [
      "The largest number is 14\n"
     ]
    }
   ],
   "source": [
    "num1 = 10\n",
    "num2 = 14\n",
    "num3 = 12\n",
    "\n",
    "if (num1 >= num2) and (num1 >= num3):\n",
    "   largest = num1\n",
    "elif (num2 >= num1) and (num2 >= num3):\n",
    "   largest = num2\n",
    "else:\n",
    "   largest = num3\n",
    "\n",
    "print(\"The largest number is\", largest)"
   ]
  },
  {
   "cell_type": "markdown",
   "id": "8d4c460c",
   "metadata": {},
   "source": [
    "## Smallest of three numbers"
   ]
  },
  {
   "cell_type": "code",
   "execution_count": 12,
   "id": "707b6505",
   "metadata": {},
   "outputs": [
    {
     "name": "stdout",
     "output_type": "stream",
     "text": [
      "Enter first number  : 25\n",
      "Enter second number : 55\n",
      "Enter third number  : 89\n",
      "25 is the smallest of three numbers.\n"
     ]
    }
   ],
   "source": [
    "a = int(input('Enter first number  : '))\n",
    "b = int(input('Enter second number : '))\n",
    "c = int(input('Enter third number  : '))\n",
    "\n",
    "smallest = 0\n",
    "\n",
    "if a < b and a < c :\n",
    "    smallest = a\n",
    "if b < a and b < c :\n",
    "    smallest = b\n",
    "if c < a and c < b :\n",
    "    smallest = c\n",
    "\n",
    "print(smallest, \"is the smallest of three numbers.\")"
   ]
  },
  {
   "cell_type": "code",
   "execution_count": null,
   "id": "449335de",
   "metadata": {},
   "outputs": [],
   "source": []
  }
 ],
 "metadata": {
  "kernelspec": {
   "display_name": "Python 3 (ipykernel)",
   "language": "python",
   "name": "python3"
  },
  "language_info": {
   "codemirror_mode": {
    "name": "ipython",
    "version": 3
   },
   "file_extension": ".py",
   "mimetype": "text/x-python",
   "name": "python",
   "nbconvert_exporter": "python",
   "pygments_lexer": "ipython3",
   "version": "3.9.7"
  }
 },
 "nbformat": 4,
 "nbformat_minor": 5
}
