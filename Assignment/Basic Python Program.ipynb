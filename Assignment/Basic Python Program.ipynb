{
 "cells": [
  {
   "cell_type": "markdown",
   "id": "4fbc3d0a",
   "metadata": {},
   "source": [
    " # ASSIGNMENT"
   ]
  },
  {
   "cell_type": "markdown",
   "id": "a1f5bb0b",
   "metadata": {},
   "source": [
    "## TO find The root of given Quadratic Equation"
   ]
  },
  {
   "cell_type": "code",
   "execution_count": 3,
   "id": "16643b6a",
   "metadata": {},
   "outputs": [
    {
     "name": "stdout",
     "output_type": "stream",
     "text": [
      "enter the val of a= 25\n",
      "enter the val of b=55\n",
      "enter the val of c=36\n",
      "the rootare(-1.1-0.47958315233127197j)and(-1.1+0.47958315233127197j)\n"
     ]
    }
   ],
   "source": [
    " import cmath\n",
    "a=int(input(\"enter the val of a= \"))\n",
    "b=int(input(\"enter the val of b=\"))\n",
    "c=int(input(\"enter the val of c=\"))\n",
    "d=(b**2)-(4*a*c)\n",
    "sol1=(-b-cmath.sqrt(d))/(2*a)\n",
    "sol2=(-b+cmath.sqrt(d))/(2*a)\n",
    "print('the rootare{0}and{1}'.format(sol1,sol2))\n"
   ]
  },
  {
   "cell_type": "markdown",
   "id": "f1149898",
   "metadata": {},
   "source": [
    "## Prime or not\n"
   ]
  },
  {
   "cell_type": "code",
   "execution_count": 4,
   "id": "a5a89b9c",
   "metadata": {},
   "outputs": [
    {
     "name": "stdout",
     "output_type": "stream",
     "text": [
      "enter the value5\n",
      "5 is a prime number\n",
      "5 is a prime number\n",
      "5 is a prime number\n"
     ]
    }
   ],
   "source": [
    "\n",
    "number = int(input(\"enter the value\"))\n",
    "if number > 1:\n",
    "    for i in range (2, number):\n",
    "        if(number % i) == 0:\n",
    "            print(number ,\"is not a prime number\")\n",
    "            break\n",
    "            \n",
    "        else:\n",
    "            print(number, \"is a prime number\")\n",
    "else:\n",
    "    print(number , \"is not a prime number\")\n"
   ]
  },
  {
   "cell_type": "markdown",
   "id": "2cd9e81c",
   "metadata": {},
   "source": [
    "## Fibonacci series"
   ]
  },
  {
   "cell_type": "code",
   "execution_count": 5,
   "id": "065d88aa",
   "metadata": {},
   "outputs": [
    {
     "name": "stdout",
     "output_type": "stream",
     "text": [
      "How many terms? 55\n",
      "Fibonacci sequence:\n",
      "0\n",
      "1\n",
      "1\n",
      "2\n",
      "3\n",
      "5\n",
      "8\n",
      "13\n",
      "21\n",
      "34\n",
      "55\n",
      "89\n",
      "144\n",
      "233\n",
      "377\n",
      "610\n",
      "987\n",
      "1597\n",
      "2584\n",
      "4181\n",
      "6765\n",
      "10946\n",
      "17711\n",
      "28657\n",
      "46368\n",
      "75025\n",
      "121393\n",
      "196418\n",
      "317811\n",
      "514229\n",
      "832040\n",
      "1346269\n",
      "2178309\n",
      "3524578\n",
      "5702887\n",
      "9227465\n",
      "14930352\n",
      "24157817\n",
      "39088169\n",
      "63245986\n",
      "102334155\n",
      "165580141\n",
      "267914296\n",
      "433494437\n",
      "701408733\n",
      "1134903170\n",
      "1836311903\n",
      "2971215073\n",
      "4807526976\n",
      "7778742049\n",
      "12586269025\n",
      "20365011074\n",
      "32951280099\n",
      "53316291173\n",
      "86267571272\n"
     ]
    }
   ],
   "source": [
    "nterms = int(input(\"How many terms? \"))\n",
    "\n",
    "\n",
    "n1, n2 = 0, 1\n",
    "count = 0\n",
    "\n",
    "\n",
    "if nterms <= 0:\n",
    "   print(\"Please enter a positive integer\")\n",
    "\n",
    "elif nterms == 1:\n",
    "   print(\"Fibonacci sequence upto\",nterms,\":\")\n",
    "   print(n1)\n",
    "\n",
    "else:\n",
    "   print(\"Fibonacci sequence:\")\n",
    "   while count < nterms:\n",
    "       print(n1)\n",
    "       nth = n1 + n2\n",
    "    \n",
    "       n1 = n2\n",
    "       n2 = nth\n",
    "       count += 1"
   ]
  },
  {
   "cell_type": "markdown",
   "id": "c0b9a670",
   "metadata": {},
   "source": [
    "# ArmStrong Number"
   ]
  },
  {
   "cell_type": "code",
   "execution_count": 9,
   "id": "0f6d6581",
   "metadata": {},
   "outputs": [
    {
     "name": "stdout",
     "output_type": "stream",
     "text": [
      "Enter a number: 55\n",
      "55 is not an Armstrong number\n"
     ]
    }
   ],
   "source": [
    "num = int(input(\"Enter a number: \"))\n",
    "\n",
    "\n",
    "sum = 0\n",
    "\n",
    "\n",
    "temp = num\n",
    "while temp > 0:\n",
    "   digit = temp % 10\n",
    "   sum += digit ** 3\n",
    "   temp //= 10\n",
    "\n",
    "\n",
    "if num == sum:\n",
    "   print(num,\"is an Armstrong number\")\n",
    "else:\n",
    "   print(num,\"is not an Armstrong number\")\n",
    "    "
   ]
  },
  {
   "cell_type": "markdown",
   "id": "7b1d649e",
   "metadata": {},
   "source": [
    "## The pyramid\n"
   ]
  },
  {
   "cell_type": "code",
   "execution_count": 10,
   "id": "ba6bc145",
   "metadata": {},
   "outputs": [
    {
     "name": "stdout",
     "output_type": "stream",
     "text": [
      "* \r\n",
      "* * \r\n",
      "* * * \r\n",
      "* * * * \r\n",
      "* * * * * \r\n"
     ]
    }
   ],
   "source": [
    "def pypart(n):\n",
    "     \n",
    "    \n",
    "    for i in range(0, n):\n",
    "     \n",
    "        for j in range(0, i+1):\n",
    "         \n",
    "            \n",
    "            print(\"* \",end=\"\")\n",
    "      \n",
    "        \n",
    "        print(\"\\r\")\n",
    " \n",
    "\n",
    "n = 5\n",
    "pypart(n)"
   ]
  },
  {
   "cell_type": "markdown",
   "id": "94a7cd18",
   "metadata": {},
   "source": [
    "## Factors of the number"
   ]
  },
  {
   "cell_type": "code",
   "execution_count": 11,
   "id": "7997c5e9",
   "metadata": {},
   "outputs": [
    {
     "name": "stdout",
     "output_type": "stream",
     "text": [
      "The factors of 320 are:\n",
      "1\n",
      "2\n",
      "4\n",
      "5\n",
      "8\n",
      "10\n",
      "16\n",
      "20\n",
      "32\n",
      "40\n",
      "64\n",
      "80\n",
      "160\n",
      "320\n"
     ]
    }
   ],
   "source": [
    "def print_factors(x):\n",
    "   print(\"The factors of\",x,\"are:\")\n",
    "   for i in range(1, x + 1):\n",
    "       if x % i == 0:\n",
    "           print(i)\n",
    "\n",
    "num = 320\n",
    "\n",
    "print_factors(num)"
   ]
  },
  {
   "cell_type": "markdown",
   "id": "2758e5ec",
   "metadata": {},
   "source": [
    "## Palindrome "
   ]
  },
  {
   "cell_type": "code",
   "execution_count": 12,
   "id": "b3ecc36b",
   "metadata": {},
   "outputs": [
    {
     "name": "stdout",
     "output_type": "stream",
     "text": [
      "Yes\n"
     ]
    }
   ],
   "source": [
    "def isPalindrome(s):\n",
    "    return s == s[::-1]\n",
    "s = \"malayalam\"\n",
    "ans = isPalindrome(s)\n",
    " \n",
    "if ans:\n",
    "    print(\"Yes\")\n",
    "else:\n",
    "    print(\"No\")"
   ]
  },
  {
   "cell_type": "markdown",
   "id": "25ab9fb4",
   "metadata": {},
   "source": [
    "## Perfect Number or not"
   ]
  },
  {
   "cell_type": "code",
   "execution_count": null,
   "id": "3068a713",
   "metadata": {},
   "outputs": [],
   "source": [
    "Number = int(input(\" Please Enter any Number: \"))\n",
    "Sum = 0\n",
    "for i in range(1, Number):\n",
    "    if(Number % i == 0):\n",
    "        Sum = Sum + i\n",
    "if (Sum == Number):\n",
    "    print(\" %d is a Perfect Number\" %Number)\n",
    "else:\n",
    "    print(\" %d is not a Perfect Number\" %Number)"
   ]
  }
 ],
 "metadata": {
  "kernelspec": {
   "display_name": "Python 3 (ipykernel)",
   "language": "python",
   "name": "python3"
  },
  "language_info": {
   "codemirror_mode": {
    "name": "ipython",
    "version": 3
   },
   "file_extension": ".py",
   "mimetype": "text/x-python",
   "name": "python",
   "nbconvert_exporter": "python",
   "pygments_lexer": "ipython3",
   "version": "3.9.7"
  }
 },
 "nbformat": 4,
 "nbformat_minor": 5
}
