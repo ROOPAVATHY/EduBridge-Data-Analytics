{
 "cells": [
  {
   "cell_type": "markdown",
   "id": "04b85115",
   "metadata": {},
   "source": [
    "# PYTHON ASSIGNMENTS"
   ]
  },
  {
   "cell_type": "markdown",
   "id": "63650269",
   "metadata": {},
   "source": [
    "### 1. write a python class named circle constructed by a radius  and two method which will compute the area and the perimeter of a circle"
   ]
  },
  {
   "cell_type": "code",
   "execution_count": 6,
   "id": "0818a5f7",
   "metadata": {},
   "outputs": [
    {
     "name": "stdout",
     "output_type": "stream",
     "text": [
      "200.96\n",
      "50.24\n"
     ]
    }
   ],
   "source": [
    "class Circle():\n",
    "     def __init__(self, r):\n",
    "         self.radius = r\n",
    " \n",
    "     def area(self):\n",
    "         return self.radius**2*3.14\n",
    "     \n",
    "     def perimeter(self):\n",
    "         return 2*self.radius*3.14\n",
    " \n",
    "NewCircle = Circle(8)\n",
    "print(NewCircle.area())\n",
    "print(NewCircle.perimeter())"
   ]
  },
  {
   "cell_type": "markdown",
   "id": "9ccacc57",
   "metadata": {},
   "source": [
    "### 2.write a  python class named rectangle constructed by a length and width and a method which will compute the area of a triangle"
   ]
  },
  {
   "cell_type": "code",
   "execution_count": 17,
   "id": "d8bffff1",
   "metadata": {},
   "outputs": [
    {
     "ename": "SyntaxError",
     "evalue": "invalid syntax (Temp/ipykernel_1340/2469799867.py, line 9)",
     "output_type": "error",
     "traceback": [
      "\u001b[1;36m  File \u001b[1;32m\"C:\\Users\\HP\\AppData\\Local\\Temp/ipykernel_1340/2469799867.py\"\u001b[1;36m, line \u001b[1;32m9\u001b[0m\n\u001b[1;33m    print(newRectangle.rectangle_area())\u001b[0m\n\u001b[1;37m    ^\u001b[0m\n\u001b[1;31mSyntaxError\u001b[0m\u001b[1;31m:\u001b[0m invalid syntax\n"
     ]
    }
   ],
   "source": [
    "class Rectangle():\n",
    "    def __init__(self, l, w):\n",
    "        self.length = l\n",
    "        self.width  = w\n",
    "\n",
    "    def rectangle_area(self):\n",
    "        return self.length*self.width\n",
    "    newRectangle = Rectangle(int(input()),int(input())\n",
    "                             print(newRectangle.rectangle_area())\n",
    "\n"
   ]
  },
  {
   "cell_type": "markdown",
   "id": "de35f442",
   "metadata": {},
   "source": [
    "### 3.write a python class which has two methods get_string and print_string.get_string accept a string from the user and print_string the string in upper case\n"
   ]
  },
  {
   "cell_type": "code",
   "execution_count": 18,
   "id": "812fa992",
   "metadata": {},
   "outputs": [
    {
     "name": "stdout",
     "output_type": "stream",
     "text": [
      "Type in a statement and this program will make it upper case!\n",
      "kun\n",
      "KUN\n"
     ]
    }
   ],
   "source": [
    "class IOString():\n",
    "    def __init__(self):\n",
    "        self.str1 = \"\"\n",
    "\n",
    "    def get_String(self):\n",
    "        self.str1 = input()\n",
    "\n",
    "    def print_String(self):\n",
    "        print(self.str1.upper())\n",
    "\n",
    "print(\"Type in a statement and this program will make it upper case!\")\n",
    "\n",
    "str1 = IOString()\n",
    "str1.get_String()\n",
    "str1.print_String()"
   ]
  },
  {
   "cell_type": "code",
   "execution_count": null,
   "id": "a40d5e77",
   "metadata": {},
   "outputs": [],
   "source": []
  }
 ],
 "metadata": {
  "kernelspec": {
   "display_name": "Python 3 (ipykernel)",
   "language": "python",
   "name": "python3"
  },
  "language_info": {
   "codemirror_mode": {
    "name": "ipython",
    "version": 3
   },
   "file_extension": ".py",
   "mimetype": "text/x-python",
   "name": "python",
   "nbconvert_exporter": "python",
   "pygments_lexer": "ipython3",
   "version": "3.9.7"
  }
 },
 "nbformat": 4,
 "nbformat_minor": 5
}
